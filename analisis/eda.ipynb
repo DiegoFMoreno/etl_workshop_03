{
 "cells": [
  {
   "cell_type": "markdown",
   "id": "1217b3cb-95da-4025-b4f0-caf7ccfab669",
   "metadata": {},
   "source": [
    "### Happiness EDA"
   ]
  },
  {
   "cell_type": "code",
   "execution_count": 1,
   "id": "6a20341b-de2a-4a58-990b-b3473c3c77b6",
   "metadata": {},
   "outputs": [
    {
     "name": "stderr",
     "output_type": "stream",
     "text": [
      "C:\\Users\\USUARIO\\AppData\\Local\\Temp\\ipykernel_13284\\1015555157.py:1: DeprecationWarning: \n",
      "Pyarrow will become a required dependency of pandas in the next major release of pandas (pandas 3.0),\n",
      "(to allow more performant data types, such as the Arrow string type, and better interoperability with other libraries)\n",
      "but was not found to be installed on your system.\n",
      "If this would cause problems for you,\n",
      "please provide us feedback at https://github.com/pandas-dev/pandas/issues/54466\n",
      "        \n",
      "  import pandas as pd\n"
     ]
    }
   ],
   "source": [
    "import pandas as pd\n",
    "import seaborn as sns\n",
    "import matplotlib.pyplot as plt\n",
    "import warnings\n",
    "warnings.filterwarnings('ignore')"
   ]
  },
  {
   "cell_type": "code",
   "execution_count": 2,
   "id": "eec961e0-3572-4150-bae0-fae72f4bb795",
   "metadata": {},
   "outputs": [],
   "source": [
    "df_2015 = pd.read_csv(\"2015.csv\")\n",
    "df_2016 = pd.read_csv(\"2016.csv\")\n",
    "df_2017 = pd.read_csv(\"2017.csv\")\n",
    "df_2018 = pd.read_csv(\"2018.csv\")\n",
    "df_2019 = pd.read_csv(\"2019.csv\")"
   ]
  },
  {
   "cell_type": "markdown",
   "id": "25759a2b-8c31-43ff-9512-c5b5188fa176",
   "metadata": {},
   "source": [
    "### 2015"
   ]
  },
  {
   "cell_type": "markdown",
   "id": "c3bd7de7-9633-41db-b02f-adf9ccb4e530",
   "metadata": {},
   "source": [
    "Mostrar las primeras filas del DataFrame"
   ]
  },
  {
   "cell_type": "code",
   "execution_count": 3,
   "id": "8e572cfc-5df9-48db-b138-f1b36a2493cd",
   "metadata": {},
   "outputs": [
    {
     "data": {
      "text/html": [
       "<div>\n",
       "<style scoped>\n",
       "    .dataframe tbody tr th:only-of-type {\n",
       "        vertical-align: middle;\n",
       "    }\n",
       "\n",
       "    .dataframe tbody tr th {\n",
       "        vertical-align: top;\n",
       "    }\n",
       "\n",
       "    .dataframe thead th {\n",
       "        text-align: right;\n",
       "    }\n",
       "</style>\n",
       "<table border=\"1\" class=\"dataframe\">\n",
       "  <thead>\n",
       "    <tr style=\"text-align: right;\">\n",
       "      <th></th>\n",
       "      <th>Country</th>\n",
       "      <th>Region</th>\n",
       "      <th>Happiness Rank</th>\n",
       "      <th>Happiness Score</th>\n",
       "      <th>Standard Error</th>\n",
       "      <th>Economy (GDP per Capita)</th>\n",
       "      <th>Family</th>\n",
       "      <th>Health (Life Expectancy)</th>\n",
       "      <th>Freedom</th>\n",
       "      <th>Trust (Government Corruption)</th>\n",
       "      <th>Generosity</th>\n",
       "      <th>Dystopia Residual</th>\n",
       "    </tr>\n",
       "  </thead>\n",
       "  <tbody>\n",
       "    <tr>\n",
       "      <th>0</th>\n",
       "      <td>Switzerland</td>\n",
       "      <td>Western Europe</td>\n",
       "      <td>1</td>\n",
       "      <td>7.587</td>\n",
       "      <td>0.03411</td>\n",
       "      <td>1.39651</td>\n",
       "      <td>1.34951</td>\n",
       "      <td>0.94143</td>\n",
       "      <td>0.66557</td>\n",
       "      <td>0.41978</td>\n",
       "      <td>0.29678</td>\n",
       "      <td>2.51738</td>\n",
       "    </tr>\n",
       "    <tr>\n",
       "      <th>1</th>\n",
       "      <td>Iceland</td>\n",
       "      <td>Western Europe</td>\n",
       "      <td>2</td>\n",
       "      <td>7.561</td>\n",
       "      <td>0.04884</td>\n",
       "      <td>1.30232</td>\n",
       "      <td>1.40223</td>\n",
       "      <td>0.94784</td>\n",
       "      <td>0.62877</td>\n",
       "      <td>0.14145</td>\n",
       "      <td>0.43630</td>\n",
       "      <td>2.70201</td>\n",
       "    </tr>\n",
       "    <tr>\n",
       "      <th>2</th>\n",
       "      <td>Denmark</td>\n",
       "      <td>Western Europe</td>\n",
       "      <td>3</td>\n",
       "      <td>7.527</td>\n",
       "      <td>0.03328</td>\n",
       "      <td>1.32548</td>\n",
       "      <td>1.36058</td>\n",
       "      <td>0.87464</td>\n",
       "      <td>0.64938</td>\n",
       "      <td>0.48357</td>\n",
       "      <td>0.34139</td>\n",
       "      <td>2.49204</td>\n",
       "    </tr>\n",
       "    <tr>\n",
       "      <th>3</th>\n",
       "      <td>Norway</td>\n",
       "      <td>Western Europe</td>\n",
       "      <td>4</td>\n",
       "      <td>7.522</td>\n",
       "      <td>0.03880</td>\n",
       "      <td>1.45900</td>\n",
       "      <td>1.33095</td>\n",
       "      <td>0.88521</td>\n",
       "      <td>0.66973</td>\n",
       "      <td>0.36503</td>\n",
       "      <td>0.34699</td>\n",
       "      <td>2.46531</td>\n",
       "    </tr>\n",
       "    <tr>\n",
       "      <th>4</th>\n",
       "      <td>Canada</td>\n",
       "      <td>North America</td>\n",
       "      <td>5</td>\n",
       "      <td>7.427</td>\n",
       "      <td>0.03553</td>\n",
       "      <td>1.32629</td>\n",
       "      <td>1.32261</td>\n",
       "      <td>0.90563</td>\n",
       "      <td>0.63297</td>\n",
       "      <td>0.32957</td>\n",
       "      <td>0.45811</td>\n",
       "      <td>2.45176</td>\n",
       "    </tr>\n",
       "  </tbody>\n",
       "</table>\n",
       "</div>"
      ],
      "text/plain": [
       "       Country          Region  Happiness Rank  Happiness Score  \\\n",
       "0  Switzerland  Western Europe               1            7.587   \n",
       "1      Iceland  Western Europe               2            7.561   \n",
       "2      Denmark  Western Europe               3            7.527   \n",
       "3       Norway  Western Europe               4            7.522   \n",
       "4       Canada   North America               5            7.427   \n",
       "\n",
       "   Standard Error  Economy (GDP per Capita)   Family  \\\n",
       "0         0.03411                   1.39651  1.34951   \n",
       "1         0.04884                   1.30232  1.40223   \n",
       "2         0.03328                   1.32548  1.36058   \n",
       "3         0.03880                   1.45900  1.33095   \n",
       "4         0.03553                   1.32629  1.32261   \n",
       "\n",
       "   Health (Life Expectancy)  Freedom  Trust (Government Corruption)  \\\n",
       "0                   0.94143  0.66557                        0.41978   \n",
       "1                   0.94784  0.62877                        0.14145   \n",
       "2                   0.87464  0.64938                        0.48357   \n",
       "3                   0.88521  0.66973                        0.36503   \n",
       "4                   0.90563  0.63297                        0.32957   \n",
       "\n",
       "   Generosity  Dystopia Residual  \n",
       "0     0.29678            2.51738  \n",
       "1     0.43630            2.70201  \n",
       "2     0.34139            2.49204  \n",
       "3     0.34699            2.46531  \n",
       "4     0.45811            2.45176  "
      ]
     },
     "execution_count": 3,
     "metadata": {},
     "output_type": "execute_result"
    }
   ],
   "source": [
    "df_2015.head(5)"
   ]
  },
  {
   "cell_type": "markdown",
   "id": "6b5501f3-56f5-43f4-a1fe-46279ee15276",
   "metadata": {},
   "source": [
    "Comprobar la estrcutura del DataFrame"
   ]
  },
  {
   "cell_type": "code",
   "execution_count": null,
   "id": "0c65fe1c-8219-46c1-b76b-2f5d49e2b30e",
   "metadata": {},
   "outputs": [],
   "source": [
    "df_2015.shape"
   ]
  },
  {
   "cell_type": "markdown",
   "id": "ee71f718-bd84-4f2a-a2c9-1d58602545bd",
   "metadata": {},
   "source": [
    "Hay información para 158 países, y cada país está representado por una fila en el conjunto de datos. El conjunto de datos tiene 12 columnas, cada una de las cuales proporciona información específica sobre esos países."
   ]
  },
  {
   "cell_type": "markdown",
   "id": "bf908f90-6fa0-4580-8554-41cbc9e53710",
   "metadata": {},
   "source": [
    "Data Types"
   ]
  },
  {
   "cell_type": "code",
   "execution_count": null,
   "id": "4f1d6a94-3802-4e0a-bc92-7933f373374a",
   "metadata": {},
   "outputs": [],
   "source": [
    "df_2015.info()"
   ]
  },
  {
   "cell_type": "markdown",
   "id": "033a7f45-e44e-4e69-8514-857ac6219791",
   "metadata": {},
   "source": [
    "null values"
   ]
  },
  {
   "cell_type": "code",
   "execution_count": null,
   "id": "5686992a-bb7e-4763-b2b0-fc0db5c53677",
   "metadata": {},
   "outputs": [],
   "source": [
    "df_2015.isnull().sum()"
   ]
  },
  {
   "cell_type": "markdown",
   "id": "9307f755-c98f-4014-a210-c9d0e87228bd",
   "metadata": {},
   "source": [
    "### 2016"
   ]
  },
  {
   "cell_type": "markdown",
   "id": "b55e53d3-2352-49dc-bde1-d163c35bbea0",
   "metadata": {},
   "source": [
    "Mostrar las primeras filas del DataFrame"
   ]
  },
  {
   "cell_type": "code",
   "execution_count": null,
   "id": "0f0b7f37-ad36-41eb-8807-fca9ab18c2d0",
   "metadata": {},
   "outputs": [],
   "source": [
    "df_2016.head(5)"
   ]
  },
  {
   "cell_type": "markdown",
   "id": "c3a88cb8-c3b7-4242-9896-b33c1792ff35",
   "metadata": {},
   "source": [
    "Comprobar la estrcutura del DataFrame"
   ]
  },
  {
   "cell_type": "code",
   "execution_count": null,
   "id": "7031e00b-783d-4498-9858-3fd196767867",
   "metadata": {},
   "outputs": [],
   "source": [
    "df_2016.shape"
   ]
  },
  {
   "cell_type": "markdown",
   "id": "8bce4fbf-8aed-4f85-ada5-3903a9b8456e",
   "metadata": {},
   "source": [
    "\n",
    "Hay información para 157 países, y cada país está representado por una fila en el conjunto de datos. El conjunto de datos tiene 13 columnas, cada una de las cuales proporciona información específica sobre esos países."
   ]
  },
  {
   "cell_type": "markdown",
   "id": "a5c585d5-4146-42e4-8e18-383c4ec4eac4",
   "metadata": {},
   "source": [
    "Data Types"
   ]
  },
  {
   "cell_type": "code",
   "execution_count": null,
   "id": "ace64334-2c06-47e1-bcf3-82315ded522d",
   "metadata": {},
   "outputs": [],
   "source": [
    "df_2016.info()"
   ]
  },
  {
   "cell_type": "markdown",
   "id": "56fdf779-a5af-43a4-98f7-c7b414ddd310",
   "metadata": {},
   "source": [
    "null values"
   ]
  },
  {
   "cell_type": "code",
   "execution_count": null,
   "id": "3bec9407-7bf4-40de-941f-17454fc06eef",
   "metadata": {},
   "outputs": [],
   "source": [
    "df_2016.isnull().sum()"
   ]
  },
  {
   "cell_type": "markdown",
   "id": "877eda32-3e7b-4779-b955-779cbe2b131f",
   "metadata": {
    "jp-MarkdownHeadingCollapsed": true
   },
   "source": [
    "### 2017"
   ]
  },
  {
   "cell_type": "markdown",
   "id": "4e4d4478-5665-4164-9dff-2d667713abc2",
   "metadata": {},
   "source": [
    "Mostrar las primeras filas del DataFrame"
   ]
  },
  {
   "cell_type": "code",
   "execution_count": null,
   "id": "31282e26-c3ca-43dd-a4d2-290f31d345b5",
   "metadata": {},
   "outputs": [],
   "source": [
    "df_2017.head(5)"
   ]
  },
  {
   "cell_type": "markdown",
   "id": "5e25e7bd-573c-4f40-a19e-1a11d562bfea",
   "metadata": {},
   "source": [
    "Comprobar la estrcutura del DataFrame"
   ]
  },
  {
   "cell_type": "code",
   "execution_count": null,
   "id": "11092bc7-32ab-4f6d-9a61-95c9e367291d",
   "metadata": {},
   "outputs": [],
   "source": [
    "df_2017.shape"
   ]
  },
  {
   "cell_type": "markdown",
   "id": "cba256a3-d610-4ac4-8c8d-b27188efd2d2",
   "metadata": {},
   "source": [
    "Data Types"
   ]
  },
  {
   "cell_type": "code",
   "execution_count": null,
   "id": "927c77ff-2141-4737-9d31-d5840a6c6564",
   "metadata": {},
   "outputs": [],
   "source": [
    "df_2017.info()"
   ]
  },
  {
   "cell_type": "markdown",
   "id": "dbd143ab-4c10-482b-8818-6b575143164e",
   "metadata": {},
   "source": [
    "null values"
   ]
  },
  {
   "cell_type": "code",
   "execution_count": null,
   "id": "2a17933d-b794-4824-b5a4-5688ab2581e9",
   "metadata": {},
   "outputs": [],
   "source": [
    "df_2017.isnull().sum()"
   ]
  },
  {
   "cell_type": "markdown",
   "id": "f5a743f4-31db-4d5f-9ac0-ed3aeac8595b",
   "metadata": {},
   "source": [
    "### 2018"
   ]
  },
  {
   "cell_type": "markdown",
   "id": "baab2a8f-fc1b-4214-bb75-6405a6e1b1dc",
   "metadata": {},
   "source": [
    "Mostrar las primeras filas del DataFrame"
   ]
  },
  {
   "cell_type": "code",
   "execution_count": null,
   "id": "2b238134-6041-46a0-8510-29003c281798",
   "metadata": {},
   "outputs": [],
   "source": [
    "df_2018.head(5)"
   ]
  },
  {
   "cell_type": "markdown",
   "id": "2206abaf-8422-43e6-8eda-e63782d848cf",
   "metadata": {},
   "source": [
    "Comprobar la estrcutura del DataFrame"
   ]
  },
  {
   "cell_type": "code",
   "execution_count": null,
   "id": "f184b047-e664-402b-b5f4-69268e7a407e",
   "metadata": {},
   "outputs": [],
   "source": [
    "df_2018.shape"
   ]
  },
  {
   "cell_type": "markdown",
   "id": "d148774c-6b7e-4ede-ac5d-458fc2dda451",
   "metadata": {},
   "source": [
    "Hay información para 156 países, y cada país está representado por una fila en el conjunto de datos. El conjunto de datos tiene 9 columnas, cada una de las cuales proporciona información específica sobre esos países."
   ]
  },
  {
   "cell_type": "markdown",
   "id": "0e5a5869-774a-4b30-9d7b-1bf38fa83da7",
   "metadata": {},
   "source": [
    "Data Types"
   ]
  },
  {
   "cell_type": "code",
   "execution_count": null,
   "id": "63a198ba-e4ef-4d4d-a0d9-2abcce119b05",
   "metadata": {},
   "outputs": [],
   "source": [
    "df_2018.info()"
   ]
  },
  {
   "cell_type": "markdown",
   "id": "d4805c20-68d7-4329-952c-d5a1c04e6a1d",
   "metadata": {},
   "source": [
    " null values"
   ]
  },
  {
   "cell_type": "code",
   "execution_count": null,
   "id": "22f3ee69-999a-4fb1-99fe-99b06495a49c",
   "metadata": {},
   "outputs": [],
   "source": [
    "df_2018.isnull().sum()"
   ]
  },
  {
   "cell_type": "markdown",
   "id": "2d199422-774c-46b1-8a77-ba230cb6827f",
   "metadata": {},
   "source": [
    "Esto significa que hay una fila en la que falta información sobre la percepción de corrupción"
   ]
  },
  {
   "cell_type": "markdown",
   "id": "becc919c-4852-44ff-835e-6b9614666fc9",
   "metadata": {},
   "source": [
    "### 2019"
   ]
  },
  {
   "cell_type": "markdown",
   "id": "d134590b-b687-4e90-8b4c-f89695cfaeb2",
   "metadata": {},
   "source": [
    "Mostrar las primeras filas del DataFrame"
   ]
  },
  {
   "cell_type": "code",
   "execution_count": null,
   "id": "d2f82161-202d-4500-97be-8a1d88449d9c",
   "metadata": {},
   "outputs": [],
   "source": [
    "df_2019.head(5)"
   ]
  },
  {
   "cell_type": "markdown",
   "id": "9a240bd9-db42-48f0-8b91-7ffc163eda39",
   "metadata": {},
   "source": [
    "Comprobar la estrcutura del DataFrame"
   ]
  },
  {
   "cell_type": "code",
   "execution_count": null,
   "id": "c6121dee-2159-4d87-8a20-6113b6e109dc",
   "metadata": {},
   "outputs": [],
   "source": [
    "df_2019.shape"
   ]
  },
  {
   "cell_type": "markdown",
   "id": "aa6d02c9-2456-48d5-b8a2-aff08fb3b80c",
   "metadata": {},
   "source": [
    "Hay información para 156 países, y cada país está representado por una fila en el conjunto de datos. El conjunto de datos tiene 9 columnas, cada una de las cuales proporciona información específica sobre esos países."
   ]
  },
  {
   "cell_type": "markdown",
   "id": "e692c886-d246-4b82-ad59-1630a97e3f71",
   "metadata": {},
   "source": [
    " Data Types"
   ]
  },
  {
   "cell_type": "code",
   "execution_count": null,
   "id": "719facb9-db31-4e35-a344-46f250abc63a",
   "metadata": {},
   "outputs": [],
   "source": [
    "df_2019.info()"
   ]
  },
  {
   "cell_type": "markdown",
   "id": "ba7e547a-24cf-42bc-8f40-25145c74529a",
   "metadata": {},
   "source": [
    "null values"
   ]
  },
  {
   "cell_type": "code",
   "execution_count": null,
   "id": "17e9ca9d-55f4-4219-bd64-3728384da3d5",
   "metadata": {},
   "outputs": [],
   "source": [
    "df_2019.isnull().sum()"
   ]
  },
  {
   "cell_type": "markdown",
   "id": "c0177344",
   "metadata": {},
   "source": [
    "Podemos ver que los datasets presentan las siguientes columnas en común: Country, happiness score, GDP per capita, Life expectancy, freedom, generosity, and trust government corruption."
   ]
  },
  {
   "cell_type": "markdown",
   "id": "c8510a82-7c71-4853-a8dc-233934cef933",
   "metadata": {},
   "source": [
    "## Estandarizar datos"
   ]
  },
  {
   "cell_type": "markdown",
   "id": "cab4a218-f4ad-49f4-8383-bbffe3ae045b",
   "metadata": {},
   "source": [
    "Durante el análisis se pudo identificar que los conjuntos de datos contienen columnas con nombres variables pero con información similar sobre el país, rango, felicidad, indicadores económicos, apoyo social, libertad, esperanza de vida, generosidad y percepciones de corrupción"
   ]
  },
  {
   "cell_type": "code",
   "execution_count": null,
   "id": "8e97bdaf-c5e7-45e8-acb9-76460a094e59",
   "metadata": {},
   "outputs": [],
   "source": [
    "def rename_columns_15_16(df, year):\n",
    "    df.rename(columns={\n",
    "        'Happiness Score': 'happiness_score',\n",
    "        'Happiness Rank': 'rank',\n",
    "        'Economy (GDP per Capita)': 'gdp_per_capita',\n",
    "        'Family': 'social_support',\n",
    "        'Health (Life Expectancy)': 'life_expectancy',\n",
    "        'Trust (Government Corruption)': 'corruption'\n",
    "    }, inplace=True)\n",
    "    df.columns = map(str.lower, df.columns)\n",
    "    df['year'] = year\n",
    "    return df[['country', 'rank', 'happiness_score', 'gdp_per_capita', 'social_support', 'freedom', 'life_expectancy', 'generosity', 'corruption', 'year']]  "
   ]
  },
  {
   "cell_type": "markdown",
   "id": "8aa5f235-fb96-4542-b890-8932412dc991",
   "metadata": {},
   "source": [
    "En el caso de los anos 2015vy 2016, estos cuentan con estructura similar de nombres"
   ]
  },
  {
   "cell_type": "code",
   "execution_count": null,
   "id": "9b47d7af-9336-4683-a57b-be9f9f3b7ab3",
   "metadata": {},
   "outputs": [],
   "source": [
    "happy_2015 = rename_columns_15_16(df_2015, 2015)\n",
    "happy_2016 = rename_columns_15_16(df_2016, 2016)"
   ]
  },
  {
   "cell_type": "code",
   "execution_count": null,
   "id": "466383d6-e99c-41f9-8cb8-6f40382d9b9f",
   "metadata": {},
   "outputs": [],
   "source": [
    "def rename_columns_17(df, year):\n",
    "    df.rename(columns={\n",
    "        'Happiness.Score': 'happiness_score',\n",
    "        'Happiness.Rank': 'rank',\n",
    "        'Economy..GDP.per.Capita.': 'gdp_per_capita',\n",
    "        'Family': 'social_support',\n",
    "        'Health..Life.Expectancy.': 'life_expectancy',\n",
    "        'Trust..Government.Corruption.': 'corruption',\n",
    "    }, inplace=True)\n",
    "    df.columns = map(str.lower, df.columns)\n",
    "    df['year'] = year\n",
    "    return df[['country', 'rank', 'happiness_score', 'gdp_per_capita', 'social_support', 'freedom', 'life_expectancy', 'generosity', 'corruption', 'year']]"
   ]
  },
  {
   "cell_type": "code",
   "execution_count": null,
   "id": "16f80cf7-337c-4325-86c7-792421f3222e",
   "metadata": {},
   "outputs": [],
   "source": [
    "happy_2017 = rename_columns_17(df_2017, 2017)"
   ]
  },
  {
   "cell_type": "code",
   "execution_count": null,
   "id": "0d5b8624-1f4f-44c3-bc45-f526ee9582c4",
   "metadata": {},
   "outputs": [],
   "source": [
    "def rename_columns_18_19(df, year):\n",
    "    df.rename(columns={\n",
    "        'Overall rank': 'rank',\n",
    "        'Country or region': 'country',\n",
    "        'Score': 'happiness_score',\n",
    "        'GDP per capita': 'gdp_per_capita',\n",
    "        'Social support': 'social_support',\n",
    "        'Healthy life expectancy': 'life_expectancy',\n",
    "        'Perceptions of corruption': 'corruption',\n",
    "        'Freedom to make life choices': 'freedom',\n",
    "        'Generosity': 'generosity'\n",
    "    }, inplace=True)\n",
    "    df['year'] = year\n",
    "    return df  "
   ]
  },
  {
   "cell_type": "code",
   "execution_count": null,
   "id": "828a009d-a920-4a70-ac18-7cc16e501d87",
   "metadata": {},
   "outputs": [],
   "source": [
    "happy_2018 = rename_columns_18_19(df_2018, 2018)\n",
    "happy_2019 = rename_columns_18_19(df_2019, 2019)"
   ]
  },
  {
   "cell_type": "code",
   "execution_count": null,
   "id": "bb61d64b-77f4-4f33-9477-be0f4c220067",
   "metadata": {},
   "outputs": [],
   "source": [
    "dataframes = [happy_2015, happy_2016, happy_2017, happy_2018, happy_2019]\n",
    "happiness_final_df = pd.concat(dataframes, ignore_index=True)\n",
    "happiness_final_df"
   ]
  },
  {
   "cell_type": "markdown",
   "id": "6517a97e-626f-4b48-b656-4390aa042ed2",
   "metadata": {},
   "source": [
    "Analisis del nuevo dataframe llamado happiness luego de la integracion de todos los datasets"
   ]
  },
  {
   "cell_type": "code",
   "execution_count": null,
   "id": "19ea5ba7-43b5-4999-a28f-0bd5245849e9",
   "metadata": {},
   "outputs": [],
   "source": [
    "happiness_final_df.shape"
   ]
  },
  {
   "cell_type": "markdown",
   "id": "0deb0da3-f32e-46b9-9a54-8d03ae646581",
   "metadata": {},
   "source": [
    "El conjunto de datos combinado, que abarca de 2015 a 2019, contiene información de 782 países en 10 columnas"
   ]
  },
  {
   "cell_type": "markdown",
   "id": "974020bf-a31d-4eb4-8e47-e882cfb9cee2",
   "metadata": {},
   "source": [
    "**Valores nulos**"
   ]
  },
  {
   "cell_type": "code",
   "execution_count": null,
   "id": "79815d3c-c47b-4285-99b6-004b1b66430a",
   "metadata": {},
   "outputs": [],
   "source": [
    "happiness_final_df.isnull().sum()"
   ]
  },
  {
   "cell_type": "markdown",
   "id": "d9e3e8bf-da06-481e-bcb2-69af4ae8c1e8",
   "metadata": {},
   "source": [
    "Como solo hay un unico valor nulo, este se elimina"
   ]
  },
  {
   "cell_type": "markdown",
   "id": "d6b4c939-3088-4a85-898e-bf3b83ca4c7e",
   "metadata": {},
   "source": [
    "## Analisis por columna"
   ]
  },
  {
   "cell_type": "code",
   "execution_count": null,
   "id": "6e7e4b38-34a2-4ecf-8210-4312dbc54fbe",
   "metadata": {},
   "outputs": [],
   "source": [
    "happiness_final_df['happiness_score'].head(3)"
   ]
  },
  {
   "cell_type": "code",
   "execution_count": null,
   "id": "8160e897-e20e-43ca-9afd-d158e7199f32",
   "metadata": {},
   "outputs": [],
   "source": [
    "happiness_final_df['happiness_score'].describe()"
   ]
  },
  {
   "cell_type": "code",
   "execution_count": null,
   "id": "48c46308",
   "metadata": {},
   "outputs": [],
   "source": [
    "plt.figure(figsize=(10, 6))\n",
    "sns.histplot(happiness_final_df['corruption'], kde=True)\n",
    "plt.title('Distribución de Government Corruption')\n",
    "plt.show()"
   ]
  },
  {
   "cell_type": "code",
   "execution_count": null,
   "id": "361fbbbd-f2f1-4f78-8aee-af1f0608ba10",
   "metadata": {},
   "outputs": [],
   "source": [
    "columns_to_drop = ['rank','year','generosity','corruption']\n",
    "happiness_final_df.drop(columns=columns_to_drop, inplace=True)"
   ]
  },
  {
   "cell_type": "markdown",
   "id": "5f684bcd-7968-4de1-9c0c-5008d11266b7",
   "metadata": {},
   "source": [
    "## Regression Model"
   ]
  },
  {
   "cell_type": "code",
   "execution_count": null,
   "id": "203d89d6-5631-49f8-986c-718de90048a1",
   "metadata": {},
   "outputs": [],
   "source": [
    "from sklearn.model_selection import train_test_split\n",
    "from sklearn.ensemble import RandomForestRegressor\n",
    "import joblib"
   ]
  },
  {
   "cell_type": "markdown",
   "id": "fe3d1d4a-a608-4654-aa31-202cdf4e42bd",
   "metadata": {},
   "source": [
    "El modelo predictivo se construirá utilizando RandomForestRegressor para pronosticar el \"happiness_score\"."
   ]
  },
  {
   "cell_type": "markdown",
   "id": "eb8cf56c-88d0-41e9-adc9-432d147113bc",
   "metadata": {},
   "source": [
    "**Selecting features**"
   ]
  },
  {
   "cell_type": "code",
   "execution_count": null,
   "id": "bb668e62-a00e-4262-a69e-a964cbade882",
   "metadata": {},
   "outputs": [],
   "source": [
    "selected_features = [\n",
    "    \"gdp_per_capita\",\n",
    "    \"social_support\",\n",
    "    \"freedom\",\n",
    "    \"life_expectancy\",\n",
    "    \"happiness_score\",\n",
    "]\n",
    "\n",
    "happiness_analisis = happiness_final_df[selected_features]\n",
    "happiness_analisis"
   ]
  },
  {
   "cell_type": "markdown",
   "id": "93463d10-802e-4c96-9552-5acd36d76c42",
   "metadata": {},
   "source": [
    "Dividir el conjunto de datos"
   ]
  },
  {
   "cell_type": "code",
   "execution_count": null,
   "id": "fb276230-9c5c-4118-8f7d-dbc091731152",
   "metadata": {},
   "outputs": [],
   "source": [
    "y = happiness_analisis[\"happiness_score\"]\n",
    "X = happiness_analisis.drop(columns=[\"happiness_score\"])\n",
    "X_train, X_test, y_train, y_test = train_test_split(X, y, test_size=0.3, random_state=1)"
   ]
  },
  {
   "cell_type": "code",
   "execution_count": null,
   "id": "45af22c4-a039-442e-b829-2beb4ca5da7f",
   "metadata": {},
   "outputs": [],
   "source": [
    "test_data = happiness_final_df.loc[y_test.index]\n",
    "test_data"
   ]
  },
  {
   "cell_type": "markdown",
   "id": "d25c4644-0a26-45b9-9195-7b7007aab9bc",
   "metadata": {},
   "source": [
    "Entrenamiento"
   ]
  },
  {
   "cell_type": "code",
   "execution_count": null,
   "id": "0c352de9-5bfb-42e9-9262-1001385775be",
   "metadata": {},
   "outputs": [],
   "source": [
    "regressor = RandomForestRegressor(n_estimators=100,\n",
    "                                  random_state=0)\n",
    "regressor.fit(X_train, y_train)"
   ]
  },
  {
   "cell_type": "markdown",
   "id": "c31ae1c3-e05c-427c-bf5d-57d72c065709",
   "metadata": {},
   "source": [
    "Modelo entrenado"
   ]
  },
  {
   "cell_type": "code",
   "execution_count": null,
   "id": "6d365dec-b18c-4ed0-b0e2-c1123316c06c",
   "metadata": {},
   "outputs": [],
   "source": [
    "joblib_file = \"../modelo/rf_regre.pkl\"\n",
    "joblib.dump(regressor, joblib_file)"
   ]
  }
 ],
 "metadata": {
  "kernelspec": {
   "display_name": "Python 3 (ipykernel)",
   "language": "python",
   "name": "python3"
  },
  "language_info": {
   "codemirror_mode": {
    "name": "ipython",
    "version": 3
   },
   "file_extension": ".py",
   "mimetype": "text/x-python",
   "name": "python",
   "nbconvert_exporter": "python",
   "pygments_lexer": "ipython3",
   "version": "3.12.3"
  }
 },
 "nbformat": 4,
 "nbformat_minor": 5
}

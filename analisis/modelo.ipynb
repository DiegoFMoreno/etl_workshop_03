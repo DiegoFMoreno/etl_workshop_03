{
 "cells": [
  {
   "cell_type": "markdown",
   "metadata": {},
   "source": [
    "**Imports**"
   ]
  },
  {
   "cell_type": "code",
   "execution_count": null,
   "id": "2a77ce6b-eb66-45b4-a260-2744599ba13d",
   "metadata": {},
   "outputs": [],
   "source": [
    "import matplotlib.pyplot as plt\n",
    "import seaborn as sns\n",
    "import sys\n",
    "sys.path.append('../')\n",
    "from db.db_postgres import run_query\n",
    "from sklearn.metrics import r2_score"
   ]
  },
  {
   "cell_type": "markdown",
   "metadata": {},
   "source": [
    "Cargar los datos"
   ]
  },
  {
   "cell_type": "code",
   "execution_count": null,
   "id": "ef3379b9-6143-46c3-aede-af0577cf8f05",
   "metadata": {},
   "outputs": [],
   "source": [
    "sql='''SELECT *\n",
    "FROM workshop_happiness\n",
    "'''\n",
    "happiness_model_df = run_query(sql)"
   ]
  },
  {
   "cell_type": "code",
   "execution_count": null,
   "id": "2c80def8-d095-4246-93f8-2246ca2bef60",
   "metadata": {},
   "outputs": [],
   "source": [
    "happiness_model_df.head(3)"
   ]
  },
  {
   "cell_type": "markdown",
   "metadata": {},
   "source": [
    "R-cuadrado"
   ]
  },
  {
   "cell_type": "code",
   "execution_count": null,
   "id": "c80fed97-e8c0-401e-bb68-a64826efb6f3",
   "metadata": {},
   "outputs": [],
   "source": [
    "r2 = r2_score(happiness_model_df['happiness_score'], happiness_model_df['happiness_prediction'])\n",
    "print(f'R-cuadrado (R2) Score: {r2}')"
   ]
  },
  {
   "cell_type": "code",
   "execution_count": null,
   "id": "7cb9806e-fd0b-45b3-8b95-b5e628fe9b8f",
   "metadata": {},
   "outputs": [],
   "source": [
    "sns.set_theme(style=\"darkgrid\")\n",
    "plt.figure(figsize=(10, 6))\n",
    "sns.lineplot(data=happiness_model_df, x='id', y='happiness_score', label='Observed')\n",
    "sns.lineplot(data=happiness_model_df, x='id', y='happiness_prediction', label='Estimated')\n",
    "plt.ylabel('Puntuación de felicidad')\n",
    "plt.title('Puntuaciones de felicidad observadas y estimadas')\n",
    "plt.legend()\n",
    "plt.show()"
   ]
  }
 ],
 "metadata": {
  "kernelspec": {
   "display_name": "Python 3 (ipykernel)",
   "language": "python",
   "name": "python3"
  },
  "language_info": {
   "codemirror_mode": {
    "name": "ipython",
    "version": 3
   },
   "file_extension": ".py",
   "mimetype": "text/x-python",
   "name": "python",
   "nbconvert_exporter": "python",
   "pygments_lexer": "ipython3",
   "version": "3.11.6"
  }
 },
 "nbformat": 4,
 "nbformat_minor": 5
}
